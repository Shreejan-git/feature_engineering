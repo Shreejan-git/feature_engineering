{
 "cells": [
  {
   "cell_type": "code",
   "execution_count": 1,
   "metadata": {},
   "outputs": [],
   "source": [
    "import numpy as np\n",
    "import pandas as pd"
   ]
  },
  {
   "cell_type": "markdown",
   "metadata": {},
   "source": [
    "There are two approaches to obtain \n",
    "Implementing Standardization using StandardScaler. "
   ]
  },
  {
   "cell_type": "code",
   "execution_count": 2,
   "metadata": {
    "scrolled": true
   },
   "outputs": [
    {
     "data": {
      "text/html": [
       "<div>\n",
       "<style scoped>\n",
       "    .dataframe tbody tr th:only-of-type {\n",
       "        vertical-align: middle;\n",
       "    }\n",
       "\n",
       "    .dataframe tbody tr th {\n",
       "        vertical-align: top;\n",
       "    }\n",
       "\n",
       "    .dataframe thead th {\n",
       "        text-align: right;\n",
       "    }\n",
       "</style>\n",
       "<table border=\"1\" class=\"dataframe\">\n",
       "  <thead>\n",
       "    <tr style=\"text-align: right;\">\n",
       "      <th></th>\n",
       "      <th>User ID</th>\n",
       "      <th>Gender</th>\n",
       "      <th>Age</th>\n",
       "      <th>EstimatedSalary</th>\n",
       "      <th>Purchased</th>\n",
       "    </tr>\n",
       "  </thead>\n",
       "  <tbody>\n",
       "    <tr>\n",
       "      <th>0</th>\n",
       "      <td>15624510</td>\n",
       "      <td>Male</td>\n",
       "      <td>19</td>\n",
       "      <td>19000</td>\n",
       "      <td>0</td>\n",
       "    </tr>\n",
       "    <tr>\n",
       "      <th>1</th>\n",
       "      <td>15810944</td>\n",
       "      <td>Male</td>\n",
       "      <td>35</td>\n",
       "      <td>20000</td>\n",
       "      <td>0</td>\n",
       "    </tr>\n",
       "    <tr>\n",
       "      <th>2</th>\n",
       "      <td>15668575</td>\n",
       "      <td>Female</td>\n",
       "      <td>26</td>\n",
       "      <td>43000</td>\n",
       "      <td>0</td>\n",
       "    </tr>\n",
       "    <tr>\n",
       "      <th>3</th>\n",
       "      <td>15603246</td>\n",
       "      <td>Female</td>\n",
       "      <td>27</td>\n",
       "      <td>57000</td>\n",
       "      <td>0</td>\n",
       "    </tr>\n",
       "    <tr>\n",
       "      <th>4</th>\n",
       "      <td>15804002</td>\n",
       "      <td>Male</td>\n",
       "      <td>19</td>\n",
       "      <td>76000</td>\n",
       "      <td>0</td>\n",
       "    </tr>\n",
       "  </tbody>\n",
       "</table>\n",
       "</div>"
      ],
      "text/plain": [
       "    User ID  Gender  Age  EstimatedSalary  Purchased\n",
       "0  15624510    Male   19            19000          0\n",
       "1  15810944    Male   35            20000          0\n",
       "2  15668575  Female   26            43000          0\n",
       "3  15603246  Female   27            57000          0\n",
       "4  15804002    Male   19            76000          0"
      ]
     },
     "execution_count": 2,
     "metadata": {},
     "output_type": "execute_result"
    }
   ],
   "source": [
    "data = pd.read_csv('D:/datasets/Social_Network_Ads.csv')\n",
    "data.head()"
   ]
  },
  {
   "cell_type": "code",
   "execution_count": 3,
   "metadata": {},
   "outputs": [
    {
     "data": {
      "text/plain": [
       "(400, 5)"
      ]
     },
     "execution_count": 3,
     "metadata": {},
     "output_type": "execute_result"
    }
   ],
   "source": [
    "data.shape"
   ]
  },
  {
   "cell_type": "code",
   "execution_count": 4,
   "metadata": {},
   "outputs": [
    {
     "data": {
      "text/html": [
       "<div>\n",
       "<style scoped>\n",
       "    .dataframe tbody tr th:only-of-type {\n",
       "        vertical-align: middle;\n",
       "    }\n",
       "\n",
       "    .dataframe tbody tr th {\n",
       "        vertical-align: top;\n",
       "    }\n",
       "\n",
       "    .dataframe thead th {\n",
       "        text-align: right;\n",
       "    }\n",
       "</style>\n",
       "<table border=\"1\" class=\"dataframe\">\n",
       "  <thead>\n",
       "    <tr style=\"text-align: right;\">\n",
       "      <th></th>\n",
       "      <th>Age</th>\n",
       "      <th>EstimatedSalary</th>\n",
       "      <th>Purchased</th>\n",
       "    </tr>\n",
       "  </thead>\n",
       "  <tbody>\n",
       "    <tr>\n",
       "      <th>0</th>\n",
       "      <td>19</td>\n",
       "      <td>19000</td>\n",
       "      <td>0</td>\n",
       "    </tr>\n",
       "    <tr>\n",
       "      <th>1</th>\n",
       "      <td>35</td>\n",
       "      <td>20000</td>\n",
       "      <td>0</td>\n",
       "    </tr>\n",
       "    <tr>\n",
       "      <th>2</th>\n",
       "      <td>26</td>\n",
       "      <td>43000</td>\n",
       "      <td>0</td>\n",
       "    </tr>\n",
       "    <tr>\n",
       "      <th>3</th>\n",
       "      <td>27</td>\n",
       "      <td>57000</td>\n",
       "      <td>0</td>\n",
       "    </tr>\n",
       "    <tr>\n",
       "      <th>4</th>\n",
       "      <td>19</td>\n",
       "      <td>76000</td>\n",
       "      <td>0</td>\n",
       "    </tr>\n",
       "  </tbody>\n",
       "</table>\n",
       "</div>"
      ],
      "text/plain": [
       "   Age  EstimatedSalary  Purchased\n",
       "0   19            19000          0\n",
       "1   35            20000          0\n",
       "2   26            43000          0\n",
       "3   27            57000          0\n",
       "4   19            76000          0"
      ]
     },
     "execution_count": 4,
     "metadata": {},
     "output_type": "execute_result"
    }
   ],
   "source": [
    "dataset = data.iloc[:,2:]\n",
    "dataset.head()"
   ]
  },
  {
   "cell_type": "code",
   "execution_count": 5,
   "metadata": {},
   "outputs": [],
   "source": [
    "from sklearn.model_selection import train_test_split\n",
    "X_train, X_test, y_train, y_test = train_test_split(dataset.iloc[:,:-1], dataset.iloc[:,-1],test_size=0.1, random_state=100)"
   ]
  },
  {
   "cell_type": "code",
   "execution_count": 6,
   "metadata": {
    "scrolled": true
   },
   "outputs": [
    {
     "name": "stdout",
     "output_type": "stream",
     "text": [
      "     Age  EstimatedSalary\n",
      "136   20            82000\n",
      "54    27            58000\n",
      "75    34           112000\n",
      "369   54            26000\n",
      "258   58            95000 \n",
      "\n",
      "The shape is: (360, 2)\n"
     ]
    }
   ],
   "source": [
    "print(X_train.head(),'\\n')\n",
    "print(\"The shape is:\",X_train.shape)"
   ]
  },
  {
   "cell_type": "code",
   "execution_count": 7,
   "metadata": {},
   "outputs": [
    {
     "name": "stdout",
     "output_type": "stream",
     "text": [
      "136    0\n",
      "54     0\n",
      "75     1\n",
      "369    1\n",
      "258    1\n",
      "Name: Purchased, dtype: int64 \n",
      "\n",
      "The shape is: (360,)\n"
     ]
    }
   ],
   "source": [
    "print(y_train.head(),'\\n')\n",
    "print(\"The shape is:\",y_train.shape)"
   ]
  },
  {
   "cell_type": "code",
   "execution_count": 8,
   "metadata": {},
   "outputs": [
    {
     "data": {
      "text/plain": [
       "(40, 2)"
      ]
     },
     "execution_count": 8,
     "metadata": {},
     "output_type": "execute_result"
    }
   ],
   "source": [
    "X_test.shape"
   ]
  },
  {
   "cell_type": "code",
   "execution_count": 9,
   "metadata": {},
   "outputs": [
    {
     "data": {
      "text/plain": [
       "StandardScaler()"
      ]
     },
     "execution_count": 9,
     "metadata": {},
     "output_type": "execute_result"
    }
   ],
   "source": [
    "from sklearn.preprocessing import StandardScaler\n",
    "ss = StandardScaler()\n",
    "ss.fit(X_train)"
   ]
  },
  {
   "cell_type": "code",
   "execution_count": 10,
   "metadata": {},
   "outputs": [
    {
     "data": {
      "text/plain": [
       "array([3.74500000e+01, 7.03777778e+04])"
      ]
     },
     "execution_count": 10,
     "metadata": {},
     "output_type": "execute_result"
    }
   ],
   "source": [
    "ss.mean_"
   ]
  },
  {
   "cell_type": "code",
   "execution_count": 11,
   "metadata": {},
   "outputs": [],
   "source": [
    "X_train_transformed = ss.transform(X_train)\n",
    "X_test_transformed = ss.transform(X_test)"
   ]
  },
  {
   "cell_type": "code",
   "execution_count": 12,
   "metadata": {
    "scrolled": true
   },
   "outputs": [
    {
     "data": {
      "text/html": [
       "<div>\n",
       "<style scoped>\n",
       "    .dataframe tbody tr th:only-of-type {\n",
       "        vertical-align: middle;\n",
       "    }\n",
       "\n",
       "    .dataframe tbody tr th {\n",
       "        vertical-align: top;\n",
       "    }\n",
       "\n",
       "    .dataframe thead th {\n",
       "        text-align: right;\n",
       "    }\n",
       "</style>\n",
       "<table border=\"1\" class=\"dataframe\">\n",
       "  <thead>\n",
       "    <tr style=\"text-align: right;\">\n",
       "      <th></th>\n",
       "      <th>Age</th>\n",
       "      <th>EstimatedSalary</th>\n",
       "    </tr>\n",
       "  </thead>\n",
       "  <tbody>\n",
       "    <tr>\n",
       "      <th>136</th>\n",
       "      <td>20</td>\n",
       "      <td>82000</td>\n",
       "    </tr>\n",
       "    <tr>\n",
       "      <th>54</th>\n",
       "      <td>27</td>\n",
       "      <td>58000</td>\n",
       "    </tr>\n",
       "  </tbody>\n",
       "</table>\n",
       "</div>"
      ],
      "text/plain": [
       "     Age  EstimatedSalary\n",
       "136   20            82000\n",
       "54    27            58000"
      ]
     },
     "execution_count": 12,
     "metadata": {},
     "output_type": "execute_result"
    }
   ],
   "source": [
    "X_train.head(2)"
   ]
  },
  {
   "cell_type": "code",
   "execution_count": 13,
   "metadata": {
    "collapsed": true
   },
   "outputs": [
    {
     "data": {
      "text/plain": [
       "array([[-1.66313927,  0.33735873],\n",
       "       [-0.99597739, -0.35929028],\n",
       "       [-0.3288155 ,  1.20817   ],\n",
       "       [ 1.57736131, -1.28815562],\n",
       "       [ 1.95859668,  0.71471028],\n",
       "       [-0.8053597 , -0.79469591],\n",
       "       [ 0.24303754,  2.07898126],\n",
       "       [-0.90066854, -0.4463714 ],\n",
       "       [-0.04288898, -0.50442549],\n",
       "       [ 1.67267015,  1.73065676],\n",
       "       [-0.90066854, -0.76566887],\n",
       "       [ 0.1477287 , -0.82372295],\n",
       "       [ 0.24303754,  0.22125057],\n",
       "       [-0.23350666, -1.46231788],\n",
       "       [ 1.00550827, -1.08496633],\n",
       "       [ 0.1477287 , -0.33026323],\n",
       "       [ 1.57736131,  1.09206183],\n",
       "       [ 0.91019943, -0.62053366],\n",
       "       [ 0.33834638,  0.25027761],\n",
       "       [ 2.14921436, -0.82372295],\n",
       "       [-0.23350666,  0.19222352],\n",
       "       [ 0.91019943, -0.67858774],\n",
       "       [ 0.1477287 ,  0.01806127],\n",
       "       [-0.3288155 ,  0.04708831],\n",
       "       [-1.09128623, -1.17204746],\n",
       "       [ 0.24303754, -0.15610098],\n",
       "       [ 0.91019943,  1.23719704],\n",
       "       [ 0.33834638,  0.04708831],\n",
       "       [-1.28190391, -1.37523675],\n",
       "       [-0.04288898,  1.93384605],\n",
       "       [-0.42412434, -0.85274999],\n",
       "       [ 1.00550827,  1.7596838 ],\n",
       "       [ 2.05390552,  0.36638578],\n",
       "       [-1.66313927,  0.1051424 ],\n",
       "       [-0.99597739, -0.35929028],\n",
       "       [ 0.24303754,  0.01806127],\n",
       "       [-1.47252159, -0.4463714 ],\n",
       "       [-1.09128623,  0.27930465],\n",
       "       [-0.04288898,  0.1051424 ],\n",
       "       [-0.61474202, -0.06901986],\n",
       "       [-1.28190391,  0.39541282],\n",
       "       [-1.18659507,  0.25027761],\n",
       "       [-1.28190391, -1.11399337],\n",
       "       [ 0.43365523, -0.50442549],\n",
       "       [-0.04288898,  0.04708831],\n",
       "       [-0.3288155 , -0.79469591],\n",
       "       [-1.56783043, -0.06901986],\n",
       "       [-1.75844811, -1.28815562],\n",
       "       [-1.66313927, -0.9978852 ],\n",
       "       [ 0.91019943, -1.17204746],\n",
       "       [ 0.05241986, -0.33026323],\n",
       "       [ 0.1477287 ,  0.19222352],\n",
       "       [ 1.19612595, -0.9978852 ],\n",
       "       [-0.13819782, -0.47539845],\n",
       "       [ 0.91019943,  1.0049807 ],\n",
       "       [ 0.43365523, -0.18512802],\n",
       "       [ 0.1477287 ,  0.74373732],\n",
       "       [ 0.1477287 ,  0.01806127],\n",
       "       [-1.47252159,  0.30833169],\n",
       "       [-0.99597739,  0.39541282],\n",
       "       [-0.23350666, -0.93983112],\n",
       "       [ 0.43365523,  0.27930465],\n",
       "       [-0.23350666, -0.35929028],\n",
       "       [-0.23350666,  0.04708831],\n",
       "       [ 1.10081711, -0.91080408],\n",
       "       [-0.99597739, -0.38831732],\n",
       "       [ 0.71958175, -1.40426379],\n",
       "       [ 1.00550827, -1.2010745 ],\n",
       "       [ 1.10081711,  0.4534669 ],\n",
       "       [-0.8053597 ,  0.27930465],\n",
       "       [ 1.48205247,  0.97595366],\n",
       "       [-0.99597739, -1.46231788],\n",
       "       [-0.61474202,  0.16319648],\n",
       "       [-0.71005086, -0.24318211],\n",
       "       [ 0.62427291,  1.99190014],\n",
       "       [-0.71005086,  0.27930465],\n",
       "       [-0.8053597 ,  0.13416944],\n",
       "       [ 1.95859668, -0.93983112],\n",
       "       [-0.99597739,  1.93384605],\n",
       "       [ 1.95859668,  0.88887253],\n",
       "       [ 0.05241986,  1.20817   ],\n",
       "       [-1.37721275, -1.46231788],\n",
       "       [-0.3288155 ,  1.29525112],\n",
       "       [-0.99597739, -0.47539845],\n",
       "       [ 0.43365523,  1.09206183],\n",
       "       [-0.51943318,  0.85984549],\n",
       "       [ 1.10081711, -0.9978852 ],\n",
       "       [-0.13819782,  0.13416944],\n",
       "       [-0.51943318,  1.35330521],\n",
       "       [-1.09128623,  0.30833169],\n",
       "       [-0.23350666,  0.77276437],\n",
       "       [ 1.86328784,  1.49844042],\n",
       "       [-0.04288898, -0.38831732],\n",
       "       [-0.71005086,  0.48249394],\n",
       "       [ 1.10081711, -1.23010154],\n",
       "       [-0.23350666, -1.40426379],\n",
       "       [-0.23350666, -1.25912858],\n",
       "       [-0.04288898,  0.13416944],\n",
       "       [-0.99597739, -1.14302041],\n",
       "       [ 1.19612595, -0.76566887],\n",
       "       [ 1.00550827,  0.1051424 ],\n",
       "       [-1.09128623,  0.27930465],\n",
       "       [ 0.81489059, -1.40426379],\n",
       "       [-1.09128623, -1.60745309],\n",
       "       [ 0.81489059,  0.1051424 ],\n",
       "       [-0.13819782, -0.30123619],\n",
       "       [-1.28190391, -0.35929028],\n",
       "       [-0.04288898,  0.19222352],\n",
       "       [ 1.48205247, -1.05593929],\n",
       "       [ 1.10081711,  0.54054803],\n",
       "       [ 0.33834638, -1.17204746],\n",
       "       [-0.42412434, -0.56247957],\n",
       "       [ 1.10081711, -1.23010154],\n",
       "       [ 2.05390552,  2.1080083 ],\n",
       "       [-1.75844811, -1.43329084],\n",
       "       [-0.71005086, -1.549399  ],\n",
       "       [ 0.43365523, -0.47539845],\n",
       "       [-1.18659507,  0.56957507],\n",
       "       [-0.23350666, -0.33026323],\n",
       "       [ 1.48205247,  0.33735873],\n",
       "       [-0.99597739, -1.549399  ],\n",
       "       [ 1.767979  ,  1.81773788],\n",
       "       [-1.56783043, -1.57842605],\n",
       "       [-0.71005086,  1.87579197],\n",
       "       [ 0.52896407,  1.70162971],\n",
       "       [-0.13819782,  1.38233225],\n",
       "       [-0.23350666, -0.50442549],\n",
       "       [ 0.71958175,  1.7596838 ],\n",
       "       [ 0.1477287 ,  0.07611535],\n",
       "       [-1.18659507,  0.48249394],\n",
       "       [-1.28190391, -1.25912858],\n",
       "       [ 0.71958175, -0.73664182],\n",
       "       [ 0.05241986, -0.4463714 ],\n",
       "       [ 0.43365523, -0.15610098],\n",
       "       [ 0.24303754, -0.38831732],\n",
       "       [-0.23350666, -0.27220915],\n",
       "       [-0.61474202,  1.38233225],\n",
       "       [-0.51943318,  1.87579197],\n",
       "       [-0.42412434, -0.03999281],\n",
       "       [-0.8053597 ,  0.36638578],\n",
       "       [ 0.33834638,  0.01806127],\n",
       "       [ 0.24303754, -0.67858774],\n",
       "       [ 0.43365523,  0.56957507],\n",
       "       [ 0.33834638, -0.53345253],\n",
       "       [-0.61474202, -1.52037196],\n",
       "       [ 1.95859668, -0.67858774],\n",
       "       [-1.75844811, -1.31718267],\n",
       "       [ 0.05241986, -0.59150661],\n",
       "       [ 0.33834638,  0.04708831],\n",
       "       [-0.04288898, -1.08496633],\n",
       "       [-0.04288898,  0.01806127],\n",
       "       [ 0.24303754, -0.30123619],\n",
       "       [-1.18659507, -1.40426379],\n",
       "       [ 1.95859668, -1.37523675],\n",
       "       [ 2.14921436, -1.05593929],\n",
       "       [-1.37721275, -1.23010154],\n",
       "       [ 0.1477287 ,  1.49844042],\n",
       "       [ 1.00550827,  1.41135929],\n",
       "       [ 1.00550827,  1.96287309],\n",
       "       [ 1.48205247,  0.04708831],\n",
       "       [-1.37721275, -0.12707394],\n",
       "       [ 0.24303754, -0.38831732],\n",
       "       [-0.90066854, -0.96885816],\n",
       "       [ 1.38674363,  0.56957507],\n",
       "       [ 0.05241986, -0.27220915],\n",
       "       [-0.71005086, -0.62053366],\n",
       "       [-0.90066854, -1.11399337],\n",
       "       [ 1.10081711, -0.15610098],\n",
       "       [ 2.14921436,  0.36638578],\n",
       "       [-0.23350666,  0.51152099],\n",
       "       [ 1.29143479,  1.84676492],\n",
       "       [ 0.24303754,  0.13416944],\n",
       "       [-1.85375695, -0.76566887],\n",
       "       [ 0.91019943,  2.13703535],\n",
       "       [ 0.05241986, -0.27220915],\n",
       "       [ 0.33834638,  0.48249394],\n",
       "       [-0.23350666,  1.09206183],\n",
       "       [ 2.05390552, -1.2010745 ],\n",
       "       [ 1.48205247,  2.1080083 ],\n",
       "       [-0.23350666, -0.59150661],\n",
       "       [ 0.33834638, -0.30123619],\n",
       "       [-0.61474202, -1.05593929],\n",
       "       [-0.90066854,  0.42443986],\n",
       "       [ 0.43365523, -0.01096577],\n",
       "       [-1.28190391, -0.4463714 ],\n",
       "       [ 1.00550827, -0.85274999],\n",
       "       [ 0.52896407,  1.20817   ],\n",
       "       [ 1.38674363,  1.96287309],\n",
       "       [-0.90066854, -0.33026323],\n",
       "       [-1.09128623, -0.53345253],\n",
       "       [ 0.71958175,  0.25027761],\n",
       "       [-1.09128623,  0.4534669 ],\n",
       "       [ 1.86328784, -1.08496633],\n",
       "       [-0.90066854,  0.54054803],\n",
       "       [ 0.91019943, -1.46231788],\n",
       "       [-0.13819782, -0.53345253],\n",
       "       [ 0.1477287 , -0.82372295],\n",
       "       [-0.04288898,  0.27930465],\n",
       "       [ 1.767979  , -0.30123619],\n",
       "       [ 1.00550827,  1.84676492],\n",
       "       [-0.23350666,  2.22411647],\n",
       "       [-1.66313927, -0.62053366],\n",
       "       [ 0.05241986,  0.01806127],\n",
       "       [ 0.81489059, -0.33026323],\n",
       "       [ 1.00550827,  2.04995422],\n",
       "       [-0.23350666,  0.13416944],\n",
       "       [-0.23350666,  0.25027761],\n",
       "       [-0.51943318, -1.52037196],\n",
       "       [-0.23350666, -0.30123619],\n",
       "       [-0.23350666,  0.59860211],\n",
       "       [ 0.81489059,  0.74373732],\n",
       "       [ 1.10081711,  2.04995422],\n",
       "       [-1.28190391,  0.54054803],\n",
       "       [ 0.43365523,  0.13416944],\n",
       "       [-0.61474202, -0.35929028],\n",
       "       [-0.04288898, -0.4463714 ],\n",
       "       [ 0.33834638,  0.04708831],\n",
       "       [ 1.29143479, -1.37523675],\n",
       "       [ 0.81489059,  0.51152099],\n",
       "       [ 1.00550827,  0.74373732],\n",
       "       [ 0.81489059, -1.37523675],\n",
       "       [-0.8053597 ,  2.25314351],\n",
       "       [-0.8053597 , -0.27220915],\n",
       "       [ 0.91019943, -1.05593929],\n",
       "       [ 0.91019943,  1.06303479],\n",
       "       [-1.47252159, -1.25912858],\n",
       "       [ 0.24303754, -0.27220915],\n",
       "       [-0.99597739,  0.56957507],\n",
       "       [-0.3288155 , -1.31718267],\n",
       "       [-0.51943318,  1.35330521],\n",
       "       [ 0.24303754,  1.06303479],\n",
       "       [-0.42412434,  1.23719704],\n",
       "       [-0.13819782,  1.58552155],\n",
       "       [-0.90066854,  0.25027761],\n",
       "       [ 2.05390552,  1.73065676],\n",
       "       [-0.90066854,  0.39541282],\n",
       "       [-1.09128623, -1.60745309],\n",
       "       [-0.99597739,  0.74373732],\n",
       "       [-0.23350666, -0.91080408],\n",
       "       [ 1.00550827,  0.56957507],\n",
       "       [-0.90066854, -0.33026323],\n",
       "       [ 0.05241986,  0.01806127],\n",
       "       [ 2.14921436,  0.91789958],\n",
       "       [ 0.33834638,  0.27930465],\n",
       "       [-1.37721275,  0.33735873],\n",
       "       [ 0.05241986,  0.27930465],\n",
       "       [-1.66313927,  0.4534669 ],\n",
       "       [ 0.91019943, -1.31718267],\n",
       "       [-0.23350666, -0.59150661],\n",
       "       [ 0.33834638, -0.21415507],\n",
       "       [ 1.767979  ,  0.97595366],\n",
       "       [ 1.00550827, -1.08496633],\n",
       "       [-0.04288898, -0.24318211],\n",
       "       [-0.04288898,  2.13703535],\n",
       "       [-0.99597739,  0.54054803],\n",
       "       [-0.13819782, -0.21415507],\n",
       "       [-1.66313927,  0.33735873],\n",
       "       [-0.23350666,  0.13416944],\n",
       "       [ 0.24303754,  0.13416944],\n",
       "       [-1.85375695,  0.4534669 ],\n",
       "       [ 1.67267015,  1.58552155],\n",
       "       [ 1.10081711,  0.51152099],\n",
       "       [-0.23350666, -0.15610098],\n",
       "       [-0.04288898,  2.19508943],\n",
       "       [-0.71005086,  0.25027761],\n",
       "       [ 0.81489059, -1.11399337],\n",
       "       [ 0.91019943, -0.59150661],\n",
       "       [ 0.62427291, -0.91080408],\n",
       "       [ 0.33834638,  0.04708831],\n",
       "       [-0.51943318,  0.4534669 ],\n",
       "       [-0.04288898,  0.22125057],\n",
       "       [-1.85375695, -0.53345253],\n",
       "       [ 0.33834638, -0.33026323],\n",
       "       [-0.04288898,  0.27930465],\n",
       "       [ 0.43365523,  0.27930465],\n",
       "       [-0.23350666, -0.76566887],\n",
       "       [-1.56783043,  0.51152099],\n",
       "       [ 1.00550827, -1.02691225],\n",
       "       [-0.8053597 ,  0.36638578],\n",
       "       [ 0.91019943, -0.79469591],\n",
       "       [-1.09128623,  0.04708831],\n",
       "       [-0.13819782,  2.13703535],\n",
       "       [-0.42412434, -1.23010154],\n",
       "       [ 0.81489059,  1.35330521],\n",
       "       [-1.09128623, -1.57842605],\n",
       "       [-0.23350666, -0.67858774],\n",
       "       [ 0.05241986, -0.56247957],\n",
       "       [ 2.14921436,  1.09206183],\n",
       "       [ 1.38674363,  1.26622408],\n",
       "       [ 2.05390552, -0.82372295],\n",
       "       [ 0.43365523, -0.15610098],\n",
       "       [-1.18659507,  0.27930465],\n",
       "       [-0.42412434, -1.14302041],\n",
       "       [-0.61474202, -0.12707394],\n",
       "       [ 0.81489059, -0.85274999],\n",
       "       [-1.75844811, -1.49134492],\n",
       "       [ 1.86328784, -0.30123619],\n",
       "       [ 1.57736131, -0.01096577],\n",
       "       [-1.47252159, -0.21415507],\n",
       "       [ 0.91019943, -1.37523675],\n",
       "       [ 0.71958175, -1.28815562],\n",
       "       [-0.61474202,  0.1051424 ],\n",
       "       [-1.09128623, -1.02691225],\n",
       "       [-0.51943318, -1.52037196],\n",
       "       [-1.66313927, -1.37523675],\n",
       "       [ 0.1477287 ,  1.03400774],\n",
       "       [ 0.1477287 ,  1.84676492],\n",
       "       [-0.8053597 , -0.79469591],\n",
       "       [ 1.86328784, -1.28815562],\n",
       "       [-1.09128623,  1.38233225],\n",
       "       [-0.23350666, -0.38831732],\n",
       "       [-0.23350666,  0.01806127],\n",
       "       [-0.04288898,  0.25027761],\n",
       "       [ 0.81489059,  0.33735873],\n",
       "       [ 0.05241986, -0.59150661],\n",
       "       [ 1.38674363, -1.43329084],\n",
       "       [-0.61474202,  0.01806127],\n",
       "       [-0.51943318,  1.44038633],\n",
       "       [-1.56783043,  0.04708831],\n",
       "       [-1.09128623, -0.79469591],\n",
       "       [ 1.95859668,  2.13703535],\n",
       "       [-0.04288898, -0.53345253],\n",
       "       [-0.42412434, -0.79469591],\n",
       "       [ 0.52896407,  1.81773788],\n",
       "       [-0.23350666, -0.4463714 ],\n",
       "       [-1.75844811, -0.01096577],\n",
       "       [-0.61474202,  0.54054803],\n",
       "       [-1.37721275, -0.21415507],\n",
       "       [ 1.19612595, -1.46231788],\n",
       "       [-0.71005086,  1.32427817],\n",
       "       [-1.75844811,  0.16319648],\n",
       "       [-0.99597739,  0.51152099],\n",
       "       [ 1.38674363,  2.3111976 ],\n",
       "       [ 1.29143479,  2.19508943],\n",
       "       [-1.85375695, -0.06901986],\n",
       "       [ 0.43365523,  0.97595366],\n",
       "       [-0.61474202, -1.60745309],\n",
       "       [-1.28190391, -0.4463714 ],\n",
       "       [-0.8053597 , -1.23010154],\n",
       "       [-0.71005086,  1.06303479],\n",
       "       [-1.47252159, -1.52037196],\n",
       "       [ 1.57736131,  0.97595366],\n",
       "       [ 0.43365523,  0.25027761],\n",
       "       [ 0.24303754,  0.04708831],\n",
       "       [-0.71005086,  0.54054803],\n",
       "       [-0.13819782, -1.08496633],\n",
       "       [ 0.43365523,  2.28217056],\n",
       "       [ 0.1477287 ,  1.84676492],\n",
       "       [-1.85375695,  0.33735873],\n",
       "       [-0.13819782,  1.61454859],\n",
       "       [-1.28190391, -1.49134492],\n",
       "       [-0.23350666, -1.37523675],\n",
       "       [-0.13819782,  0.83081845],\n",
       "       [ 0.05241986,  1.23719704],\n",
       "       [-1.09128623, -1.549399  ],\n",
       "       [ 0.91019943, -0.56247957],\n",
       "       [ 0.43365523, -0.47539845],\n",
       "       [ 1.00550827, -1.17204746],\n",
       "       [ 2.05390552,  0.51152099],\n",
       "       [-1.18659507, -1.08496633]])"
      ]
     },
     "execution_count": 13,
     "metadata": {},
     "output_type": "execute_result"
    }
   ],
   "source": [
    "X_train_transformed"
   ]
  },
  {
   "cell_type": "code",
   "execution_count": 14,
   "metadata": {},
   "outputs": [],
   "source": [
    "X_train_transformed = pd.DataFrame(X_train_transformed, columns=X_train.columns)\n",
    "X_test_transformed = pd.DataFrame(X_test_transformed, columns=X_test.columns)"
   ]
  },
  {
   "cell_type": "code",
   "execution_count": 16,
   "metadata": {},
   "outputs": [
    {
     "data": {
      "text/html": [
       "<div>\n",
       "<style scoped>\n",
       "    .dataframe tbody tr th:only-of-type {\n",
       "        vertical-align: middle;\n",
       "    }\n",
       "\n",
       "    .dataframe tbody tr th {\n",
       "        vertical-align: top;\n",
       "    }\n",
       "\n",
       "    .dataframe thead th {\n",
       "        text-align: right;\n",
       "    }\n",
       "</style>\n",
       "<table border=\"1\" class=\"dataframe\">\n",
       "  <thead>\n",
       "    <tr style=\"text-align: right;\">\n",
       "      <th></th>\n",
       "      <th>Age</th>\n",
       "      <th>EstimatedSalary</th>\n",
       "    </tr>\n",
       "  </thead>\n",
       "  <tbody>\n",
       "    <tr>\n",
       "      <th>0</th>\n",
       "      <td>-1.663139</td>\n",
       "      <td>0.337359</td>\n",
       "    </tr>\n",
       "    <tr>\n",
       "      <th>1</th>\n",
       "      <td>-0.995977</td>\n",
       "      <td>-0.359290</td>\n",
       "    </tr>\n",
       "  </tbody>\n",
       "</table>\n",
       "</div>"
      ],
      "text/plain": [
       "        Age  EstimatedSalary\n",
       "0 -1.663139         0.337359\n",
       "1 -0.995977        -0.359290"
      ]
     },
     "execution_count": 16,
     "metadata": {},
     "output_type": "execute_result"
    }
   ],
   "source": [
    "X_train_transformed.head(2)"
   ]
  },
  {
   "cell_type": "code",
   "execution_count": 17,
   "metadata": {},
   "outputs": [
    {
     "data": {
      "text/html": [
       "<div>\n",
       "<style scoped>\n",
       "    .dataframe tbody tr th:only-of-type {\n",
       "        vertical-align: middle;\n",
       "    }\n",
       "\n",
       "    .dataframe tbody tr th {\n",
       "        vertical-align: top;\n",
       "    }\n",
       "\n",
       "    .dataframe thead th {\n",
       "        text-align: right;\n",
       "    }\n",
       "</style>\n",
       "<table border=\"1\" class=\"dataframe\">\n",
       "  <thead>\n",
       "    <tr style=\"text-align: right;\">\n",
       "      <th></th>\n",
       "      <th>Age</th>\n",
       "      <th>EstimatedSalary</th>\n",
       "    </tr>\n",
       "  </thead>\n",
       "  <tbody>\n",
       "    <tr>\n",
       "      <th>count</th>\n",
       "      <td>360.0</td>\n",
       "      <td>360.0</td>\n",
       "    </tr>\n",
       "    <tr>\n",
       "      <th>mean</th>\n",
       "      <td>37.4</td>\n",
       "      <td>70377.8</td>\n",
       "    </tr>\n",
       "    <tr>\n",
       "      <th>std</th>\n",
       "      <td>10.5</td>\n",
       "      <td>34498.6</td>\n",
       "    </tr>\n",
       "    <tr>\n",
       "      <th>min</th>\n",
       "      <td>18.0</td>\n",
       "      <td>15000.0</td>\n",
       "    </tr>\n",
       "    <tr>\n",
       "      <th>25%</th>\n",
       "      <td>29.0</td>\n",
       "      <td>43000.0</td>\n",
       "    </tr>\n",
       "    <tr>\n",
       "      <th>50%</th>\n",
       "      <td>37.0</td>\n",
       "      <td>70500.0</td>\n",
       "    </tr>\n",
       "    <tr>\n",
       "      <th>75%</th>\n",
       "      <td>46.0</td>\n",
       "      <td>88250.0</td>\n",
       "    </tr>\n",
       "    <tr>\n",
       "      <th>max</th>\n",
       "      <td>60.0</td>\n",
       "      <td>150000.0</td>\n",
       "    </tr>\n",
       "  </tbody>\n",
       "</table>\n",
       "</div>"
      ],
      "text/plain": [
       "         Age  EstimatedSalary\n",
       "count  360.0            360.0\n",
       "mean    37.4          70377.8\n",
       "std     10.5          34498.6\n",
       "min     18.0          15000.0\n",
       "25%     29.0          43000.0\n",
       "50%     37.0          70500.0\n",
       "75%     46.0          88250.0\n",
       "max     60.0         150000.0"
      ]
     },
     "execution_count": 17,
     "metadata": {},
     "output_type": "execute_result"
    }
   ],
   "source": [
    "np.round(X_train.describe(),1)"
   ]
  },
  {
   "cell_type": "code",
   "execution_count": 18,
   "metadata": {},
   "outputs": [
    {
     "data": {
      "text/html": [
       "<div>\n",
       "<style scoped>\n",
       "    .dataframe tbody tr th:only-of-type {\n",
       "        vertical-align: middle;\n",
       "    }\n",
       "\n",
       "    .dataframe tbody tr th {\n",
       "        vertical-align: top;\n",
       "    }\n",
       "\n",
       "    .dataframe thead th {\n",
       "        text-align: right;\n",
       "    }\n",
       "</style>\n",
       "<table border=\"1\" class=\"dataframe\">\n",
       "  <thead>\n",
       "    <tr style=\"text-align: right;\">\n",
       "      <th></th>\n",
       "      <th>Age</th>\n",
       "      <th>EstimatedSalary</th>\n",
       "    </tr>\n",
       "  </thead>\n",
       "  <tbody>\n",
       "    <tr>\n",
       "      <th>count</th>\n",
       "      <td>360.0</td>\n",
       "      <td>360.0</td>\n",
       "    </tr>\n",
       "    <tr>\n",
       "      <th>mean</th>\n",
       "      <td>-0.0</td>\n",
       "      <td>-0.0</td>\n",
       "    </tr>\n",
       "    <tr>\n",
       "      <th>std</th>\n",
       "      <td>1.0</td>\n",
       "      <td>1.0</td>\n",
       "    </tr>\n",
       "    <tr>\n",
       "      <th>min</th>\n",
       "      <td>-1.9</td>\n",
       "      <td>-1.6</td>\n",
       "    </tr>\n",
       "    <tr>\n",
       "      <th>25%</th>\n",
       "      <td>-0.8</td>\n",
       "      <td>-0.8</td>\n",
       "    </tr>\n",
       "    <tr>\n",
       "      <th>50%</th>\n",
       "      <td>-0.0</td>\n",
       "      <td>0.0</td>\n",
       "    </tr>\n",
       "    <tr>\n",
       "      <th>75%</th>\n",
       "      <td>0.8</td>\n",
       "      <td>0.5</td>\n",
       "    </tr>\n",
       "    <tr>\n",
       "      <th>max</th>\n",
       "      <td>2.1</td>\n",
       "      <td>2.3</td>\n",
       "    </tr>\n",
       "  </tbody>\n",
       "</table>\n",
       "</div>"
      ],
      "text/plain": [
       "         Age  EstimatedSalary\n",
       "count  360.0            360.0\n",
       "mean    -0.0             -0.0\n",
       "std      1.0              1.0\n",
       "min     -1.9             -1.6\n",
       "25%     -0.8             -0.8\n",
       "50%     -0.0              0.0\n",
       "75%      0.8              0.5\n",
       "max      2.1              2.3"
      ]
     },
     "execution_count": 18,
     "metadata": {},
     "output_type": "execute_result"
    }
   ],
   "source": [
    "np.round(X_train_transformed.describe(),1)"
   ]
  },
  {
   "cell_type": "code",
   "execution_count": 20,
   "metadata": {},
   "outputs": [],
   "source": [
    "from sklearn.linear_model import LogisticRegression"
   ]
  },
  {
   "cell_type": "code",
   "execution_count": 21,
   "metadata": {},
   "outputs": [],
   "source": [
    "lr_normal = LogisticRegression()\n",
    "lr_scaled = LogisticRegression()"
   ]
  },
  {
   "cell_type": "code",
   "execution_count": 25,
   "metadata": {},
   "outputs": [
    {
     "data": {
      "text/plain": [
       "LogisticRegression()"
      ]
     },
     "execution_count": 25,
     "metadata": {},
     "output_type": "execute_result"
    }
   ],
   "source": [
    "lr_normal.fit(X_train,y_train)\n",
    "lr_scaled.fit(X_train_transformed,y_train)"
   ]
  },
  {
   "cell_type": "code",
   "execution_count": 30,
   "metadata": {},
   "outputs": [],
   "source": [
    "normal_prediction = lr_normal.predict(X_test)\n",
    "scaled_prediction = lr_scaled.predict(X_test_transformed)"
   ]
  },
  {
   "cell_type": "code",
   "execution_count": 31,
   "metadata": {},
   "outputs": [
    {
     "name": "stdout",
     "output_type": "stream",
     "text": [
      "Accuracy without scaling 0.55\n",
      "Accuracy with scaling 0.775\n"
     ]
    }
   ],
   "source": [
    "from sklearn.metrics import accuracy_score\n",
    "print(\"Accuracy without scaling\", accuracy_score(y_test, normal_prediction))\n",
    "print(\"Accuracy with scaling\", accuracy_score(y_test, scaled_prediction))"
   ]
  },
  {
   "cell_type": "code",
   "execution_count": 36,
   "metadata": {},
   "outputs": [],
   "source": [
    "from sklearn.tree import DecisionTreeClassifier\n",
    "dt_normal = DecisionTreeClassifier()\n",
    "dt_scaled = DecisionTreeClassifier()"
   ]
  },
  {
   "cell_type": "code",
   "execution_count": 38,
   "metadata": {},
   "outputs": [
    {
     "data": {
      "text/plain": [
       "DecisionTreeClassifier()"
      ]
     },
     "execution_count": 38,
     "metadata": {},
     "output_type": "execute_result"
    }
   ],
   "source": [
    "dt_normal.fit(X_train,y_train)\n",
    "dt_scaled.fit(X_train_transformed,y_train)"
   ]
  },
  {
   "cell_type": "code",
   "execution_count": 40,
   "metadata": {},
   "outputs": [],
   "source": [
    "dt_normal_prediction = dt_normal.predict(X_test)\n",
    "dt_scaled_prediction = dt_scaled.predict(X_test_transformed)"
   ]
  },
  {
   "cell_type": "code",
   "execution_count": 42,
   "metadata": {},
   "outputs": [
    {
     "name": "stdout",
     "output_type": "stream",
     "text": [
      "Accuracy without scaling 0.875\n",
      "Accuracy with scaling 0.875\n"
     ]
    }
   ],
   "source": [
    "print(\"Accuracy without scaling\", accuracy_score(y_test, dt_normal_prediction))\n",
    "print(\"Accuracy with scaling\", accuracy_score(y_test, dt_scaled_prediction))"
   ]
  },
  {
   "cell_type": "code",
   "execution_count": null,
   "metadata": {},
   "outputs": [],
   "source": []
  }
 ],
 "metadata": {
  "kernelspec": {
   "display_name": "Python 3",
   "language": "python",
   "name": "python3"
  },
  "language_info": {
   "codemirror_mode": {
    "name": "ipython",
    "version": 3
   },
   "file_extension": ".py",
   "mimetype": "text/x-python",
   "name": "python",
   "nbconvert_exporter": "python",
   "pygments_lexer": "ipython3",
   "version": "3.8.3"
  }
 },
 "nbformat": 4,
 "nbformat_minor": 4
}
