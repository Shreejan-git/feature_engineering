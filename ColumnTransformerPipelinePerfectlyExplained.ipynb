{
 "cells": [
  {
   "cell_type": "code",
   "execution_count": 1,
   "id": "e1e710c4",
   "metadata": {},
   "outputs": [],
   "source": [
    "import pandas as pd\n",
    "from sklearn.preprocessing import OneHotEncoder, OrdinalEncoder\n",
    "from sklearn.compose import ColumnTransformer\n",
    "from sklearn.pipeline import Pipeline\n",
    "from sklearn.impute import SimpleImputer"
   ]
  },
  {
   "cell_type": "code",
   "execution_count": 2,
   "id": "555b1062",
   "metadata": {
    "scrolled": false
   },
   "outputs": [
    {
     "data": {
      "text/html": [
       "<div>\n",
       "<style scoped>\n",
       "    .dataframe tbody tr th:only-of-type {\n",
       "        vertical-align: middle;\n",
       "    }\n",
       "\n",
       "    .dataframe tbody tr th {\n",
       "        vertical-align: top;\n",
       "    }\n",
       "\n",
       "    .dataframe thead th {\n",
       "        text-align: right;\n",
       "    }\n",
       "</style>\n",
       "<table border=\"1\" class=\"dataframe\">\n",
       "  <thead>\n",
       "    <tr style=\"text-align: right;\">\n",
       "      <th></th>\n",
       "      <th>age</th>\n",
       "      <th>gender</th>\n",
       "      <th>fever</th>\n",
       "      <th>cough</th>\n",
       "      <th>city</th>\n",
       "      <th>has_covid</th>\n",
       "    </tr>\n",
       "  </thead>\n",
       "  <tbody>\n",
       "    <tr>\n",
       "      <th>0</th>\n",
       "      <td>60</td>\n",
       "      <td>Male</td>\n",
       "      <td>103.0</td>\n",
       "      <td>Mild</td>\n",
       "      <td>Kolkata</td>\n",
       "      <td>No</td>\n",
       "    </tr>\n",
       "    <tr>\n",
       "      <th>1</th>\n",
       "      <td>27</td>\n",
       "      <td>Male</td>\n",
       "      <td>100.0</td>\n",
       "      <td>Mild</td>\n",
       "      <td>Delhi</td>\n",
       "      <td>Yes</td>\n",
       "    </tr>\n",
       "    <tr>\n",
       "      <th>2</th>\n",
       "      <td>42</td>\n",
       "      <td>Male</td>\n",
       "      <td>101.0</td>\n",
       "      <td>Mild</td>\n",
       "      <td>Delhi</td>\n",
       "      <td>No</td>\n",
       "    </tr>\n",
       "    <tr>\n",
       "      <th>3</th>\n",
       "      <td>31</td>\n",
       "      <td>Female</td>\n",
       "      <td>98.0</td>\n",
       "      <td>Mild</td>\n",
       "      <td>Kolkata</td>\n",
       "      <td>No</td>\n",
       "    </tr>\n",
       "    <tr>\n",
       "      <th>4</th>\n",
       "      <td>65</td>\n",
       "      <td>Female</td>\n",
       "      <td>101.0</td>\n",
       "      <td>Mild</td>\n",
       "      <td>Mumbai</td>\n",
       "      <td>No</td>\n",
       "    </tr>\n",
       "    <tr>\n",
       "      <th>5</th>\n",
       "      <td>84</td>\n",
       "      <td>Female</td>\n",
       "      <td>NaN</td>\n",
       "      <td>Mild</td>\n",
       "      <td>Bangalore</td>\n",
       "      <td>Yes</td>\n",
       "    </tr>\n",
       "    <tr>\n",
       "      <th>6</th>\n",
       "      <td>14</td>\n",
       "      <td>Male</td>\n",
       "      <td>101.0</td>\n",
       "      <td>Strong</td>\n",
       "      <td>Bangalore</td>\n",
       "      <td>No</td>\n",
       "    </tr>\n",
       "  </tbody>\n",
       "</table>\n",
       "</div>"
      ],
      "text/plain": [
       "   age  gender  fever   cough       city has_covid\n",
       "0   60    Male  103.0    Mild    Kolkata        No\n",
       "1   27    Male  100.0    Mild      Delhi       Yes\n",
       "2   42    Male  101.0    Mild      Delhi        No\n",
       "3   31  Female   98.0    Mild    Kolkata        No\n",
       "4   65  Female  101.0    Mild     Mumbai        No\n",
       "5   84  Female    NaN    Mild  Bangalore       Yes\n",
       "6   14    Male  101.0  Strong  Bangalore        No"
      ]
     },
     "execution_count": 2,
     "metadata": {},
     "output_type": "execute_result"
    }
   ],
   "source": [
    "data = pd.read_csv('datasets/covidtoy.csv')\n",
    "data.head(7)"
   ]
  },
  {
   "cell_type": "code",
   "execution_count": 3,
   "id": "0f4fe86f",
   "metadata": {},
   "outputs": [
    {
     "name": "stdout",
     "output_type": "stream",
     "text": [
      "Mild      62\n",
      "Strong    38\n",
      "Name: cough, dtype: int64\n",
      "\n",
      "Kolkata      32\n",
      "Bangalore    30\n",
      "Delhi        22\n",
      "Mumbai       16\n",
      "Name: city, dtype: int64\n"
     ]
    }
   ],
   "source": [
    "print(data.cough.value_counts())\n",
    "print()\n",
    "print(data.city.value_counts())"
   ]
  },
  {
   "cell_type": "code",
   "execution_count": 4,
   "id": "a503e7e6",
   "metadata": {
    "scrolled": true
   },
   "outputs": [
    {
     "data": {
      "text/plain": [
       "age           0\n",
       "gender        0\n",
       "fever        10\n",
       "cough         0\n",
       "city          0\n",
       "has_covid     0\n",
       "dtype: int64"
      ]
     },
     "execution_count": 4,
     "metadata": {},
     "output_type": "execute_result"
    }
   ],
   "source": [
    "data.isnull().sum()"
   ]
  },
  {
   "cell_type": "code",
   "execution_count": 5,
   "id": "9502b6ac",
   "metadata": {},
   "outputs": [
    {
     "data": {
      "text/plain": [
       "array([0.0, 103.0, 0.0, 1.0, 0.0, 0.0, 1.0, 0.0, 60, 'No'], dtype=object)"
      ]
     },
     "execution_count": 5,
     "metadata": {},
     "output_type": "execute_result"
    }
   ],
   "source": [
    "ct = ColumnTransformer(transformers=[\n",
    "    ('c1', OrdinalEncoder(categories=[['Mild','Strong']]), ['cough']),\n",
    "    ('c2',SimpleImputer(strategy='mean'),['fever']),\n",
    "    ('c3',OneHotEncoder(drop=None, sparse=False), ['gender','city']),\n",
    "    \n",
    "], remainder='passthrough')\n",
    "ct.fit_transform(data)[0]"
   ]
  },
  {
   "cell_type": "code",
   "execution_count": 6,
   "id": "507f03aa",
   "metadata": {},
   "outputs": [
    {
     "data": {
      "text/plain": [
       "array([0.0, 103.0, 0.0, 1.0, 0.0, 0.0, 1.0, 0.0, 60, 'No'], dtype=object)"
      ]
     },
     "execution_count": 6,
     "metadata": {},
     "output_type": "execute_result"
    }
   ],
   "source": [
    "ct_2 = ColumnTransformer(transformers=[\n",
    "    ('c1', OrdinalEncoder(categories=[['Mild','Strong']]), [3]),\n",
    "    ('c2',SimpleImputer(strategy='mean'),[2]),\n",
    "    ('c3',OneHotEncoder(drop=None), [1,4]),\n",
    "    \n",
    "], remainder='passthrough')\n",
    "ct_2.fit_transform(data)[0]"
   ]
  },
  {
   "cell_type": "code",
   "execution_count": 7,
   "id": "4298c815",
   "metadata": {
    "scrolled": true
   },
   "outputs": [
    {
     "data": {
      "text/html": [
       "<div>\n",
       "<style scoped>\n",
       "    .dataframe tbody tr th:only-of-type {\n",
       "        vertical-align: middle;\n",
       "    }\n",
       "\n",
       "    .dataframe tbody tr th {\n",
       "        vertical-align: top;\n",
       "    }\n",
       "\n",
       "    .dataframe thead th {\n",
       "        text-align: right;\n",
       "    }\n",
       "</style>\n",
       "<table border=\"1\" class=\"dataframe\">\n",
       "  <thead>\n",
       "    <tr style=\"text-align: right;\">\n",
       "      <th></th>\n",
       "      <th>age</th>\n",
       "      <th>gender</th>\n",
       "      <th>fever</th>\n",
       "      <th>cough</th>\n",
       "      <th>city</th>\n",
       "      <th>has_covid</th>\n",
       "    </tr>\n",
       "  </thead>\n",
       "  <tbody>\n",
       "    <tr>\n",
       "      <th>0</th>\n",
       "      <td>60</td>\n",
       "      <td>Male</td>\n",
       "      <td>103.0</td>\n",
       "      <td>Mild</td>\n",
       "      <td>Kolkata</td>\n",
       "      <td>No</td>\n",
       "    </tr>\n",
       "  </tbody>\n",
       "</table>\n",
       "</div>"
      ],
      "text/plain": [
       "   age gender  fever cough     city has_covid\n",
       "0   60   Male  103.0  Mild  Kolkata        No"
      ]
     },
     "execution_count": 7,
     "metadata": {},
     "output_type": "execute_result"
    }
   ],
   "source": [
    "data.head(1)"
   ]
  },
  {
   "cell_type": "markdown",
   "id": "c25fe158",
   "metadata": {},
   "source": [
    "# Second dataset "
   ]
  },
  {
   "cell_type": "code",
   "execution_count": 8,
   "id": "33ca375e",
   "metadata": {},
   "outputs": [],
   "source": [
    "data_second=pd.read_csv('datasets/datascience_jobdata.csv')"
   ]
  },
  {
   "cell_type": "code",
   "execution_count": 9,
   "id": "5f748cb3",
   "metadata": {},
   "outputs": [],
   "source": [
    "data_second.drop(['enrollee_id','city','city_development_index','company_size','company_type'],axis='columns',inplace=True)"
   ]
  },
  {
   "cell_type": "code",
   "execution_count": 10,
   "id": "a9eec0b0",
   "metadata": {
    "scrolled": true
   },
   "outputs": [
    {
     "data": {
      "text/plain": [
       "gender                 4508\n",
       "relevent_experience       0\n",
       "enrolled_university     386\n",
       "education_level         460\n",
       "major_discipline       2813\n",
       "experience               65\n",
       "training_hours          766\n",
       "target                    0\n",
       "dtype: int64"
      ]
     },
     "execution_count": 10,
     "metadata": {},
     "output_type": "execute_result"
    }
   ],
   "source": [
    "data_second.isnull().sum()"
   ]
  },
  {
   "cell_type": "code",
   "execution_count": 38,
   "id": "6d8abeb1",
   "metadata": {},
   "outputs": [
    {
     "data": {
      "text/html": [
       "<div>\n",
       "<style scoped>\n",
       "    .dataframe tbody tr th:only-of-type {\n",
       "        vertical-align: middle;\n",
       "    }\n",
       "\n",
       "    .dataframe tbody tr th {\n",
       "        vertical-align: top;\n",
       "    }\n",
       "\n",
       "    .dataframe thead th {\n",
       "        text-align: right;\n",
       "    }\n",
       "</style>\n",
       "<table border=\"1\" class=\"dataframe\">\n",
       "  <thead>\n",
       "    <tr style=\"text-align: right;\">\n",
       "      <th></th>\n",
       "      <th>gender</th>\n",
       "      <th>relevent_experience</th>\n",
       "      <th>enrolled_university</th>\n",
       "      <th>education_level</th>\n",
       "      <th>major_discipline</th>\n",
       "      <th>experience</th>\n",
       "      <th>training_hours</th>\n",
       "    </tr>\n",
       "  </thead>\n",
       "  <tbody>\n",
       "    <tr>\n",
       "      <th>0</th>\n",
       "      <td>Male</td>\n",
       "      <td>Has relevent experience</td>\n",
       "      <td>no_enrollment</td>\n",
       "      <td>Graduate</td>\n",
       "      <td>STEM</td>\n",
       "      <td>20.0</td>\n",
       "      <td>36.0</td>\n",
       "    </tr>\n",
       "  </tbody>\n",
       "</table>\n",
       "</div>"
      ],
      "text/plain": [
       "  gender      relevent_experience enrolled_university education_level  \\\n",
       "0   Male  Has relevent experience       no_enrollment        Graduate   \n",
       "\n",
       "  major_discipline  experience  training_hours  \n",
       "0             STEM        20.0            36.0  "
      ]
     },
     "execution_count": 38,
     "metadata": {},
     "output_type": "execute_result"
    }
   ],
   "source": [
    "X = data_second.drop('target', axis='columns')\n",
    "X.head(1)"
   ]
  },
  {
   "cell_type": "code",
   "execution_count": 60,
   "id": "52203b2b",
   "metadata": {
    "scrolled": true
   },
   "outputs": [],
   "source": [
    "ct_b = ColumnTransformer(transformers=[\n",
    "    ('ctb1', SimpleImputer(strategy='most_frequent'),['gender','enrolled_university','education_level',\n",
    "                                                      'major_discipline']),\n",
    "    ('ctb2',SimpleImputer(strategy='mean'),['experience','training_hours'])\n",
    "], remainder='passthrough')\n",
    "# ct_b.fit_transform(X)[0]"
   ]
  },
  {
   "cell_type": "markdown",
   "id": "35844da0",
   "metadata": {},
   "source": [
    "We will get an error!!!!!\n",
    "The important point we must know is, columntransformer returns ndarray. As we will be assigning two columntransformers inside a pipeline later, 1st columntransformer's output will be 2nd's input. If we give name of the column directly, we will get below error. <br> ValueError: Specifying the columns using strings is only supported for pandas DataFrames.\n",
    "<br> I did a same mistake and learned from this :D While making ct_c, I passed name of the column transformer but later, I have used the index value mapping a position of each column. Yes! this looks tedious..."
   ]
  },
  {
   "cell_type": "code",
   "execution_count": 46,
   "id": "5d3d55f5",
   "metadata": {},
   "outputs": [],
   "source": [
    "# ct_c = ColumnTransformer(transformers=[\n",
    "#     ('ctc1',OneHotEncoder(handle_unknown='ignore',sparse=False),['gender','relevent_experience','enrolled_university', 'education_level',\n",
    "#                                                    'major_discipline'])\n",
    "# ],remainder='passthrough')\n"
   ]
  },
  {
   "cell_type": "code",
   "execution_count": 61,
   "id": "22d30f9e",
   "metadata": {},
   "outputs": [],
   "source": [
    "ct_c = ColumnTransformer(transformers=[\n",
    "    ('ctc1',OneHotEncoder(handle_unknown='ignore',sparse=False),[0,1,2,3,6])\n",
    "],remainder='passthrough')"
   ]
  },
  {
   "cell_type": "code",
   "execution_count": 62,
   "id": "215a8951",
   "metadata": {},
   "outputs": [],
   "source": [
    "pipe = Pipeline(steps=[\n",
    "    ('p1', ct_b),\n",
    "    ('p2', ct_c)\n",
    "])"
   ]
  },
  {
   "cell_type": "code",
   "execution_count": 63,
   "id": "1e1aa6d1",
   "metadata": {
    "scrolled": true
   },
   "outputs": [
    {
     "data": {
      "text/plain": [
       "array([0.0, 1.0, 0.0, 0.0, 0.0, 1.0, 1.0, 0.0, 0.0, 0.0, 0.0, 0.0, 0.0,\n",
       "       0.0, 0.0, 0.0, 1.0, 1.0, 0.0, 20.0, 36.0], dtype=object)"
      ]
     },
     "execution_count": 63,
     "metadata": {},
     "output_type": "execute_result"
    }
   ],
   "source": [
    "pipe.fit_transform(X)[0]"
   ]
  },
  {
   "cell_type": "code",
   "execution_count": null,
   "id": "7e0955d5",
   "metadata": {},
   "outputs": [],
   "source": []
  },
  {
   "cell_type": "code",
   "execution_count": null,
   "id": "c96e7a0e",
   "metadata": {},
   "outputs": [],
   "source": []
  }
 ],
 "metadata": {
  "kernelspec": {
   "display_name": "Python 3 (ipykernel)",
   "language": "python",
   "name": "python3"
  },
  "language_info": {
   "codemirror_mode": {
    "name": "ipython",
    "version": 3
   },
   "file_extension": ".py",
   "mimetype": "text/x-python",
   "name": "python",
   "nbconvert_exporter": "python",
   "pygments_lexer": "ipython3",
   "version": "3.9.7"
  }
 },
 "nbformat": 4,
 "nbformat_minor": 5
}
