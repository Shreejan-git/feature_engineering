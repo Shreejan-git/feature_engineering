{
 "cells": [
  {
   "cell_type": "markdown",
   "id": "9ae99f73",
   "metadata": {},
   "source": [
    "In this notebook, I have implemented columnTransformer and pipeline in multiple ways and have mentioned the important things that we should consider while passing the columns into columntransformer. I have also shared my learning while facing errors."
   ]
  },
  {
   "cell_type": "code",
   "execution_count": 1,
   "id": "e1e710c4",
   "metadata": {},
   "outputs": [],
   "source": [
    "import pandas as pd\n",
    "from sklearn.preprocessing import OneHotEncoder, OrdinalEncoder\n",
    "from sklearn.compose import ColumnTransformer\n",
    "from sklearn.pipeline import Pipeline\n",
    "from sklearn.impute import SimpleImputer"
   ]
  },
  {
   "cell_type": "code",
   "execution_count": 2,
   "id": "555b1062",
   "metadata": {
    "scrolled": false
   },
   "outputs": [
    {
     "data": {
      "text/html": [
       "<div>\n",
       "<style scoped>\n",
       "    .dataframe tbody tr th:only-of-type {\n",
       "        vertical-align: middle;\n",
       "    }\n",
       "\n",
       "    .dataframe tbody tr th {\n",
       "        vertical-align: top;\n",
       "    }\n",
       "\n",
       "    .dataframe thead th {\n",
       "        text-align: right;\n",
       "    }\n",
       "</style>\n",
       "<table border=\"1\" class=\"dataframe\">\n",
       "  <thead>\n",
       "    <tr style=\"text-align: right;\">\n",
       "      <th></th>\n",
       "      <th>age</th>\n",
       "      <th>gender</th>\n",
       "      <th>fever</th>\n",
       "      <th>cough</th>\n",
       "      <th>city</th>\n",
       "      <th>has_covid</th>\n",
       "    </tr>\n",
       "  </thead>\n",
       "  <tbody>\n",
       "    <tr>\n",
       "      <th>0</th>\n",
       "      <td>60</td>\n",
       "      <td>Male</td>\n",
       "      <td>103.0</td>\n",
       "      <td>Mild</td>\n",
       "      <td>Kolkata</td>\n",
       "      <td>No</td>\n",
       "    </tr>\n",
       "    <tr>\n",
       "      <th>1</th>\n",
       "      <td>27</td>\n",
       "      <td>Male</td>\n",
       "      <td>100.0</td>\n",
       "      <td>Mild</td>\n",
       "      <td>Delhi</td>\n",
       "      <td>Yes</td>\n",
       "    </tr>\n",
       "    <tr>\n",
       "      <th>2</th>\n",
       "      <td>42</td>\n",
       "      <td>Male</td>\n",
       "      <td>101.0</td>\n",
       "      <td>Mild</td>\n",
       "      <td>Delhi</td>\n",
       "      <td>No</td>\n",
       "    </tr>\n",
       "    <tr>\n",
       "      <th>3</th>\n",
       "      <td>31</td>\n",
       "      <td>Female</td>\n",
       "      <td>98.0</td>\n",
       "      <td>Mild</td>\n",
       "      <td>Kolkata</td>\n",
       "      <td>No</td>\n",
       "    </tr>\n",
       "    <tr>\n",
       "      <th>4</th>\n",
       "      <td>65</td>\n",
       "      <td>Female</td>\n",
       "      <td>101.0</td>\n",
       "      <td>Mild</td>\n",
       "      <td>Mumbai</td>\n",
       "      <td>No</td>\n",
       "    </tr>\n",
       "    <tr>\n",
       "      <th>5</th>\n",
       "      <td>84</td>\n",
       "      <td>Female</td>\n",
       "      <td>NaN</td>\n",
       "      <td>Mild</td>\n",
       "      <td>Bangalore</td>\n",
       "      <td>Yes</td>\n",
       "    </tr>\n",
       "    <tr>\n",
       "      <th>6</th>\n",
       "      <td>14</td>\n",
       "      <td>Male</td>\n",
       "      <td>101.0</td>\n",
       "      <td>Strong</td>\n",
       "      <td>Bangalore</td>\n",
       "      <td>No</td>\n",
       "    </tr>\n",
       "  </tbody>\n",
       "</table>\n",
       "</div>"
      ],
      "text/plain": [
       "   age  gender  fever   cough       city has_covid\n",
       "0   60    Male  103.0    Mild    Kolkata        No\n",
       "1   27    Male  100.0    Mild      Delhi       Yes\n",
       "2   42    Male  101.0    Mild      Delhi        No\n",
       "3   31  Female   98.0    Mild    Kolkata        No\n",
       "4   65  Female  101.0    Mild     Mumbai        No\n",
       "5   84  Female    NaN    Mild  Bangalore       Yes\n",
       "6   14    Male  101.0  Strong  Bangalore        No"
      ]
     },
     "execution_count": 2,
     "metadata": {},
     "output_type": "execute_result"
    }
   ],
   "source": [
    "data = pd.read_csv('datasets/covidtoy.csv')\n",
    "data.head(7)"
   ]
  },
  {
   "cell_type": "code",
   "execution_count": 3,
   "id": "0f4fe86f",
   "metadata": {},
   "outputs": [
    {
     "name": "stdout",
     "output_type": "stream",
     "text": [
      "Mild      62\n",
      "Strong    38\n",
      "Name: cough, dtype: int64\n",
      "\n",
      "Kolkata      32\n",
      "Bangalore    30\n",
      "Delhi        22\n",
      "Mumbai       16\n",
      "Name: city, dtype: int64\n"
     ]
    }
   ],
   "source": [
    "print(data.cough.value_counts())\n",
    "print()\n",
    "print(data.city.value_counts())"
   ]
  },
  {
   "cell_type": "code",
   "execution_count": 4,
   "id": "a503e7e6",
   "metadata": {
    "scrolled": true
   },
   "outputs": [
    {
     "data": {
      "text/plain": [
       "age           0\n",
       "gender        0\n",
       "fever        10\n",
       "cough         0\n",
       "city          0\n",
       "has_covid     0\n",
       "dtype: int64"
      ]
     },
     "execution_count": 4,
     "metadata": {},
     "output_type": "execute_result"
    }
   ],
   "source": [
    "data.isnull().sum()"
   ]
  },
  {
   "cell_type": "code",
   "execution_count": 5,
   "id": "9502b6ac",
   "metadata": {},
   "outputs": [
    {
     "data": {
      "text/plain": [
       "array([0.0, 103.0, 0.0, 1.0, 0.0, 0.0, 1.0, 0.0, 60, 'No'], dtype=object)"
      ]
     },
     "execution_count": 5,
     "metadata": {},
     "output_type": "execute_result"
    }
   ],
   "source": [
    "#passing the column in the columntransformer with the name of the column...\n",
    "ct = ColumnTransformer(transformers=[\n",
    "    ('c1', OrdinalEncoder(categories=[['Mild','Strong']]), ['cough']),\n",
    "    ('c2',SimpleImputer(strategy='mean'),['fever']),\n",
    "    ('c3',OneHotEncoder(drop=None, sparse=False), ['gender','city']),\n",
    "    \n",
    "], remainder='passthrough')\n",
    "ct.fit_transform(data)[0]"
   ]
  },
  {
   "cell_type": "code",
   "execution_count": 6,
   "id": "507f03aa",
   "metadata": {},
   "outputs": [
    {
     "data": {
      "text/plain": [
       "array([0.0, 103.0, 0.0, 1.0, 0.0, 0.0, 1.0, 0.0, 60, 'No'], dtype=object)"
      ]
     },
     "execution_count": 6,
     "metadata": {},
     "output_type": "execute_result"
    }
   ],
   "source": [
    "#passing the column in the columntransformer with the index value...\n",
    "ct_2 = ColumnTransformer(transformers=[\n",
    "    ('c1', OrdinalEncoder(categories=[['Mild','Strong']]), [3]),\n",
    "    ('c2',SimpleImputer(strategy='mean'),[2]),\n",
    "    ('c3',OneHotEncoder(drop=None), [1,4]),\n",
    "    \n",
    "], remainder='passthrough')\n",
    "ct_2.fit_transform(data)[0]"
   ]
  },
  {
   "cell_type": "markdown",
   "id": "75ab1e59",
   "metadata": {},
   "source": [
    "we can see that both gives the same output. "
   ]
  },
  {
   "cell_type": "markdown",
   "id": "c25fe158",
   "metadata": {},
   "source": [
    "# Second dataset "
   ]
  },
  {
   "cell_type": "code",
   "execution_count": 8,
   "id": "33ca375e",
   "metadata": {},
   "outputs": [],
   "source": [
    "data_second=pd.read_csv('datasets/datascience_jobdata.csv')"
   ]
  },
  {
   "cell_type": "code",
   "execution_count": 9,
   "id": "5f748cb3",
   "metadata": {},
   "outputs": [],
   "source": [
    "data_second.drop(['enrollee_id','city','city_development_index','company_size','company_type'],axis='columns',inplace=True)"
   ]
  },
  {
   "cell_type": "code",
   "execution_count": 10,
   "id": "a9eec0b0",
   "metadata": {
    "scrolled": true
   },
   "outputs": [
    {
     "data": {
      "text/plain": [
       "gender                 4508\n",
       "relevent_experience       0\n",
       "enrolled_university     386\n",
       "education_level         460\n",
       "major_discipline       2813\n",
       "experience               65\n",
       "training_hours          766\n",
       "target                    0\n",
       "dtype: int64"
      ]
     },
     "execution_count": 10,
     "metadata": {},
     "output_type": "execute_result"
    }
   ],
   "source": [
    "data_second.isnull().sum()"
   ]
  },
  {
   "cell_type": "code",
   "execution_count": 38,
   "id": "8d78cedd",
   "metadata": {
    "scrolled": false
   },
   "outputs": [
    {
     "data": {
      "text/html": [
       "<div>\n",
       "<style scoped>\n",
       "    .dataframe tbody tr th:only-of-type {\n",
       "        vertical-align: middle;\n",
       "    }\n",
       "\n",
       "    .dataframe tbody tr th {\n",
       "        vertical-align: top;\n",
       "    }\n",
       "\n",
       "    .dataframe thead th {\n",
       "        text-align: right;\n",
       "    }\n",
       "</style>\n",
       "<table border=\"1\" class=\"dataframe\">\n",
       "  <thead>\n",
       "    <tr style=\"text-align: right;\">\n",
       "      <th></th>\n",
       "      <th>gender</th>\n",
       "      <th>relevent_experience</th>\n",
       "      <th>enrolled_university</th>\n",
       "      <th>education_level</th>\n",
       "      <th>major_discipline</th>\n",
       "      <th>experience</th>\n",
       "      <th>training_hours</th>\n",
       "    </tr>\n",
       "  </thead>\n",
       "  <tbody>\n",
       "    <tr>\n",
       "      <th>0</th>\n",
       "      <td>Male</td>\n",
       "      <td>Has relevent experience</td>\n",
       "      <td>no_enrollment</td>\n",
       "      <td>Graduate</td>\n",
       "      <td>STEM</td>\n",
       "      <td>20.0</td>\n",
       "      <td>36.0</td>\n",
       "    </tr>\n",
       "  </tbody>\n",
       "</table>\n",
       "</div>"
      ],
      "text/plain": [
       "  gender      relevent_experience enrolled_university education_level  \\\n",
       "0   Male  Has relevent experience       no_enrollment        Graduate   \n",
       "\n",
       "  major_discipline  experience  training_hours  \n",
       "0             STEM        20.0            36.0  "
      ]
     },
     "execution_count": 38,
     "metadata": {},
     "output_type": "execute_result"
    }
   ],
   "source": [
    "X = data_second.drop('target', axis='columns')\n",
    "X.head(1)"
   ]
  },
  {
   "cell_type": "code",
   "execution_count": 65,
   "id": "52203b2b",
   "metadata": {
    "scrolled": true
   },
   "outputs": [
    {
     "data": {
      "text/plain": [
       "array(['Male', 'no_enrollment', 'Graduate', 'STEM', 20.0, 36.0,\n",
       "       'Has relevent experience'], dtype=object)"
      ]
     },
     "execution_count": 65,
     "metadata": {},
     "output_type": "execute_result"
    }
   ],
   "source": [
    "ct_b = ColumnTransformer(transformers=[\n",
    "    ('ctb1', SimpleImputer(strategy='most_frequent'),['gender','enrolled_university','education_level',\n",
    "                                                      'major_discipline']),\n",
    "    ('ctb2',SimpleImputer(strategy='mean'),['experience','training_hours'])\n",
    "], remainder='passthrough')\n",
    "ct_b.fit_transform(X)[0]"
   ]
  },
  {
   "cell_type": "code",
   "execution_count": 61,
   "id": "887cba57",
   "metadata": {},
   "outputs": [],
   "source": [
    "# ct_c = ColumnTransformer(transformers=[\n",
    "#     ('ctc1',OneHotEncoder(handle_unknown='ignore',sparse=False),['gender','relevent_experience','enrolled_university', 'education_level',\n",
    "#                                                    'major_discipline'])\n",
    "# ],remainder='passthrough')\n",
    "\n",
    "ct_c = ColumnTransformer(transformers=[\n",
    "    ('ctc1',OneHotEncoder(handle_unknown='ignore',sparse=False),[0,1,2,3,6])\n",
    "],remainder='passthrough')"
   ]
  },
  {
   "cell_type": "markdown",
   "id": "402d3e41",
   "metadata": {},
   "source": [
    "<strong>We will get an error!!!!!</strong> <br>\n",
    "The important point that we must know is, columntransformer returns ndarray. As we will be assigning two columntransformers inside a pipeline below, 1st columntransformer's output will be 2nd's input. If we give name of the column directly while assigning the columns in 2nd columntransformer, we will get below \"ValueError\" error. <br> ValueError: Specifying the columns using strings is only supported for pandas DataFrames. <br>\n",
    "<br> I did a same mistake and learned from this :D While making ct_c, I passed name of the column transformer but later, I have used the index value, mapping a position of each column after it gets through ct_b. Yes! this looks tedious..."
   ]
  },
  {
   "cell_type": "code",
   "execution_count": 113,
   "id": "215a8951",
   "metadata": {},
   "outputs": [
    {
     "data": {
      "text/plain": [
       "array([0.0, 1.0, 0.0, 0.0, 0.0, 1.0, 1.0, 0.0, 0.0, 0.0, 0.0, 0.0, 0.0,\n",
       "       0.0, 0.0, 0.0, 1.0, 1.0, 0.0, 20.0, 36.0], dtype=object)"
      ]
     },
     "execution_count": 113,
     "metadata": {},
     "output_type": "execute_result"
    }
   ],
   "source": [
    "pipe = Pipeline(steps=[\n",
    "    ('p1', ct_b),\n",
    "    ('p2', ct_c)\n",
    "])\n",
    "pipe.fit_transform(X)[0]"
   ]
  },
  {
   "cell_type": "markdown",
   "id": "cdb33817",
   "metadata": {},
   "source": [
    "# 2nd experiment\n"
   ]
  },
  {
   "cell_type": "markdown",
   "id": "3ebc612e",
   "metadata": {},
   "source": [
    "Instead of using two columntransformers, directly passing the categorial columns to a pipeline and in the columntransformer after then. The output will be the same but the placement of each column after going through a columntransformer will be different."
   ]
  },
  {
   "cell_type": "code",
   "execution_count": 121,
   "id": "ec56641b",
   "metadata": {},
   "outputs": [
    {
     "name": "stdout",
     "output_type": "stream",
     "text": [
      "Numerical columns:['experience', 'training_hours']\n",
      "\n",
      "Categorical columns: ['gender', 'relevent_experience', 'enrolled_university', 'education_level', 'major_discipline']\n"
     ]
    }
   ],
   "source": [
    "categorical = list(X.select_dtypes('object').columns)\n",
    "numerical = list(X.select_dtypes('float').columns)\n",
    "print(f'Numerical columns:{numerical}')\n",
    "print()\n",
    "print(f'Categorical columns: {categorical}')\n"
   ]
  },
  {
   "cell_type": "code",
   "execution_count": 123,
   "id": "988072be",
   "metadata": {},
   "outputs": [],
   "source": [
    "pipe_b = Pipeline(\n",
    "    [\n",
    "        ('p1', SimpleImputer(strategy='most_frequent')),\n",
    "        ('p2', OneHotEncoder(handle_unknown='ignore', sparse=False ))\n",
    "    ])"
   ]
  },
  {
   "cell_type": "code",
   "execution_count": 124,
   "id": "8af85fde",
   "metadata": {},
   "outputs": [],
   "source": [
    "ct_e =ColumnTransformer(transformers=[\n",
    "    \n",
    "    ('ctd1', pipe_b, categorical),\n",
    "    ('ctd2', SimpleImputer(strategy='mean'),numerical)  \n",
    "],remainder='passthrough')"
   ]
  },
  {
   "cell_type": "code",
   "execution_count": 126,
   "id": "01251d66",
   "metadata": {
    "scrolled": true
   },
   "outputs": [
    {
     "data": {
      "text/plain": [
       "array([ 0.,  1.,  0.,  1.,  0.,  0.,  0.,  1.,  1.,  0.,  0.,  0.,  0.,\n",
       "        0.,  0.,  0.,  0.,  0.,  1., 20., 36.])"
      ]
     },
     "execution_count": 126,
     "metadata": {},
     "output_type": "execute_result"
    }
   ],
   "source": [
    "ct_e.fit_transform(X)[0]"
   ]
  },
  {
   "cell_type": "markdown",
   "id": "f905f18b",
   "metadata": {},
   "source": [
    "<strong> Lesson </strong> <br>\n",
    "If we are implemeting the OneHotEncoder in a column which has missing rows, and if we have used handle_unknown='ignore', OHE will make one extra column for the missing row. That's why before implementing the OHE we have to solve the missing value first."
   ]
  }
 ],
 "metadata": {
  "kernelspec": {
   "display_name": "Python 3 (ipykernel)",
   "language": "python",
   "name": "python3"
  },
  "language_info": {
   "codemirror_mode": {
    "name": "ipython",
    "version": 3
   },
   "file_extension": ".py",
   "mimetype": "text/x-python",
   "name": "python",
   "nbconvert_exporter": "python",
   "pygments_lexer": "ipython3",
   "version": "3.9.7"
  }
 },
 "nbformat": 4,
 "nbformat_minor": 5
}
